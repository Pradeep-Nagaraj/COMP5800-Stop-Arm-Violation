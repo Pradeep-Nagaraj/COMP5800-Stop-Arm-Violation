{
 "cells": [
  {
   "cell_type": "code",
   "execution_count": 1,
   "id": "7086d3c4",
   "metadata": {},
   "outputs": [],
   "source": [
    "#Import necessary library\n",
    "\n",
    "import os\n",
    "import re\n",
    "import cv2\n",
    "import numpy as np\n",
    "from os.path import isfile, join\n",
    "import matplotlib.pyplot as plt\n",
    "from utils import *\n",
    "from darknet import Darknet\n",
    "import imutils\n",
    "import numpy as np\n",
    "import re\n",
    "from os.path import isfile, join\n",
    "from skimage.metrics import structural_similarity, mean_squared_error\n",
    "import easyocr"
   ]
  },
  {
   "cell_type": "code",
   "execution_count": 2,
   "id": "dcd12f4a",
   "metadata": {},
   "outputs": [
    {
     "name": "stdout",
     "output_type": "stream",
     "text": [
      "\n",
      "Loading weights. Please Wait...100.00% Complete\r"
     ]
    }
   ],
   "source": [
    "# Set the location and name of the cfg file\n",
    "cfg_file = './cfg/yolov3.cfg'\n",
    "\n",
    "# Set the location and name of the pre-trained weights file\n",
    "weight_file = './yolov3.weights'\n",
    "\n",
    "# Set the location and name of the COCO object classes file\n",
    "namesfile = 'data/coco.names'\n",
    "\n",
    "# Load the network architecture\n",
    "m = Darknet(cfg_file)\n",
    "\n",
    "# Load the pre-trained weights\n",
    "m.load_weights(weight_file)\n",
    "\n",
    "# Load the COCO object classes\n",
    "class_names = load_class_names(namesfile)\n",
    "\n",
    "# Print the neural network used in YOLOv3\n",
    "#m.print_network()"
   ]
  },
  {
   "cell_type": "code",
   "execution_count": 3,
   "id": "b92640ea",
   "metadata": {},
   "outputs": [],
   "source": [
    "#Creating folder to store the results\n",
    "\n",
    "if not os.path.exists('Result'):\n",
    "  \n",
    "  # Create a new directory because it does not exist \n",
    "  os.makedirs('Result')"
   ]
  },
  {
   "cell_type": "code",
   "execution_count": 4,
   "id": "ab95f8cb",
   "metadata": {},
   "outputs": [
    {
     "name": "stdout",
     "output_type": "stream",
     "text": [
      "Total Saved Images:  250\n"
     ]
    }
   ],
   "source": [
    "# Converting the video to image frames\n",
    "\n",
    "import cv2\n",
    "\n",
    "# Input the name of the video here\n",
    "video_file_name = 'TEST_2.MP4'\n",
    "vidcap = cv2.VideoCapture('TEST_2.MP4')\n",
    "video_name = video_file_name.split('.')[0]\n",
    "tracking_file_name = 'Result/'+video_name+'_tracking'\n",
    "success, image = vidcap.read()\n",
    "frames_count = 0\n",
    "os.mkdir(video_name)\n",
    "os.mkdir(tracking_file_name)\n",
    "while success:\n",
    "  cv2.imwrite(\"./\"+video_name+\"/%d.jpg\" % frames_count, image)    \n",
    "  success, image = vidcap.read()\n",
    "  #cv2.imshow(image)\n",
    "  frames_count += 1\n",
    "    \n",
    "print('Total Saved Images: ', frames_count)"
   ]
  },
  {
   "cell_type": "code",
   "execution_count": 5,
   "id": "ecce4814",
   "metadata": {},
   "outputs": [],
   "source": [
    "# get file names of the frames\n",
    "col_frames = os.listdir(video_name)\n",
    "\n",
    "# sort file names\n",
    "col_frames.sort(key=lambda f: int(re.sub('\\D', '', f)))\n",
    "\n",
    "# empty list to store the frames\n",
    "col_images=[]\n",
    "\n",
    "for i in col_frames:\n",
    "    # read the frames\n",
    "    img = cv2.imread('./'+video_name+'/'+i)\n",
    "    # append the frames to the list\n",
    "    col_images.append(img)"
   ]
  },
  {
   "cell_type": "code",
   "execution_count": 6,
   "id": "ccc64e0a",
   "metadata": {},
   "outputs": [],
   "source": [
    "# Method to identify objects from a image, using YoloV3\n",
    "\n",
    "def Predict_objects(image, output_image,threshhold):    \n",
    "    plt.rcParams['figure.figsize'] = [24.0, 14.0]\n",
    "    \n",
    "    original_image = image\n",
    "\n",
    "    # We adjust the image to fit the first layer of the network's input width and height.    \n",
    "    resized_image = cv2.resize(original_image, (m.width, m.height))\n",
    "\n",
    "    # Defining the IOU threshold. \n",
    "    iou_thresh = threshhold\n",
    "\n",
    "    # Defining the NMS threshold. \n",
    "    nms_thresh = threshhold\n",
    "\n",
    "    # Identifying objects in the image.\n",
    "    boxes = detect_objects(m, resized_image, iou_thresh, nms_thresh)\n",
    "\n",
    "    # Retrieving all the objects found.\n",
    "    class_name=print_objects(boxes, class_names,a=0)\n",
    "\n",
    "    #Plotting the image with associated object class labels and bounding boxes. \n",
    "    #plot_boxes(output_image, boxes, class_names, plot_labels = True)\n",
    "    \n",
    "    height, width, channels = output_image.shape\n",
    "\n",
    "    objects = []\n",
    "    i=0\n",
    "    for box in boxes:\n",
    "        (centerx, centery, wid, hei) = (box[0]*width, box[1]*height, box[2]*width, box[3]*height)\n",
    "        objects.append([class_name[i],centerx, centery, wid, hei])\n",
    "        i=i+1\n",
    "    \n",
    "    return output_image,objects"
   ]
  },
  {
   "cell_type": "code",
   "execution_count": 7,
   "id": "b5937d32",
   "metadata": {},
   "outputs": [],
   "source": [
    "# Method to track a moving image from two consecutive frames of a video\n",
    "\n",
    "def track_moving_objects(prev,nxt,name):\n",
    "    grayA = cv2.cvtColor(prev, cv2.COLOR_BGR2GRAY)\n",
    "    grayB = cv2.cvtColor(nxt, cv2.COLOR_BGR2GRAY)\n",
    "\n",
    "    diff_image = cv2.absdiff(grayB, grayA)\n",
    "    # plotting the image after frame differencing\n",
    "    #plt.show()\n",
    "    \n",
    "\n",
    "    # Performing image thresholding\n",
    "    ret, thresh = cv2.threshold(diff_image, 30, 255, cv2.THRESH_BINARY)\n",
    "\n",
    "    # plotting image after thresholding\n",
    "    # plt.imshow(thresh, cmap = 'gray')\n",
    "    \n",
    "    # applying image dilation\n",
    "    kernel = np.ones((3,3),np.uint8)\n",
    "    dilated = cv2.dilate(thresh,kernel,iterations = 1)\n",
    "\n",
    "    # plot dilated image\n",
    "    # plt.imshow(dilated, cmap = 'gray')\n",
    "    \n",
    "    valid_cntrs = []\n",
    "    \n",
    "    contours, hierarchy = cv2.findContours(thresh.copy(),cv2.RETR_TREE,cv2.CHAIN_APPROX_NONE)\n",
    "\n",
    "    for i,cntr in enumerate(contours):\n",
    "        x,y,w,h = cv2.boundingRect(cntr)\n",
    "        valid_cntrs.append(cntr)\n",
    "    \n",
    "    dmy = prev.copy()\n",
    "\n",
    "    cv2.drawContours(dmy, valid_cntrs, -1, (127,200,0), 2)\n",
    "#     cv2.line(dmy, (0, 700),(256,80),(100, 255, 255))\n",
    "\n",
    "    cv2.imwrite(\"./\"+tracking_file_name+\"/%s.jpg\" % name, dmy)\n",
    "    #plt.imshow(dmy)"
   ]
  },
  {
   "cell_type": "code",
   "execution_count": 8,
   "id": "fe2a59f2",
   "metadata": {},
   "outputs": [],
   "source": [
    "# Method to find the object from original image, that is close to the object that was detected in difference image between\n",
    "#two frames\n",
    "\n",
    "def Find_Object(object1,object2):\n",
    "    for k in object2:\n",
    "        \n",
    "        # For this we are comparing the centre points, heightb and width of the objects found in both the frames \n",
    "        if (abs(j[1] - k[1]) <= 200 and abs(j[2] - k[2]) <= 200 and abs(j[3] - k[3]) <= 150 and abs(j[4] - k[4]) <= 150):\n",
    "            return k"
   ]
  },
  {
   "cell_type": "code",
   "execution_count": 9,
   "id": "95851a16",
   "metadata": {},
   "outputs": [],
   "source": [
    "# Method to find the License plate number from given vehicle image using ALPR\n",
    "# For this we will be finding contours(blocks of images) that has 4 sides (rectangle) with text to identify the number plate,\n",
    "# crop that portion of the image, and then read the text from that cropped image using EasyOCR.\n",
    "\n",
    "def Find_LicensePlate(image):\n",
    "    img =image\n",
    "    gray = cv2.cvtColor(img, cv2.COLOR_BGR2GRAY)\n",
    "    # plt.imshow(cv2.cvtColor(gray, cv2.COLOR_BGR2RGB))\n",
    "    \n",
    "    bfilter = cv2.bilateralFilter(gray, 11, 17, 17) #Noise reduction\n",
    "    edged = cv2.Canny(bfilter, 30, 200) #Edge detection\n",
    "    # plt.imshow(cv2.cvtColor(edged, cv2.COLOR_BGR2RGB))\n",
    "    \n",
    "    # finding all significant contours (with larger areas)\n",
    "    \n",
    "    keypoints = cv2.findContours(edged.copy(), cv2.RETR_TREE, cv2.CHAIN_APPROX_SIMPLE)\n",
    "    contours = imutils.grab_contours(keypoints)\n",
    "    contours = sorted(contours, key=cv2.contourArea, reverse=True)[:10]\n",
    "\n",
    "    # finding contours(blocks of images) that has 4 sides (rectangle)\n",
    "    \n",
    "    location = None\n",
    "    for contour in contours:\n",
    "        approx = cv2.approxPolyDP(contour, 10, True)\n",
    "        if len(approx) == 4:\n",
    "            location = approx\n",
    "            break\n",
    "       \n",
    "    # plotting the identified contour with bounding box\n",
    "    \n",
    "    mask = np.zeros(gray.shape, np.uint8)\n",
    "    new_image = cv2.drawContours(mask, [location], 0,255, -1)\n",
    "    new_image = cv2.bitwise_and(img, img, mask=mask)\n",
    "    # plt.imshow(cv2.cvtColor(new_image, cv2.COLOR_BGR2RGB))\n",
    "\n",
    "    # Cropping the image to get the number plate part\n",
    "    (x,y) = np.where(mask==255)\n",
    "    (x1, y1) = (np.min(x), np.min(y))\n",
    "    (x2, y2) = (np.max(x), np.max(y))\n",
    "    cropped_image = gray[x1:x2+1, y1:y2+1]\n",
    "    # plt.imshow(cv2.cvtColor(cropped_image, cv2.COLOR_BGR2RGB))\n",
    "\n",
    "\n",
    "    # Reading text from license plate using EASY OCR\n",
    "    reader = easyocr.Reader(['en'])\n",
    "    result = reader.readtext(cropped_image)\n",
    "    text = result[0][-2]\n",
    "    font = cv2.FONT_HERSHEY_SIMPLEX\n",
    "    res = cv2.putText(img, text=text, org=(approx[0][0][0], approx[1][0][1]+60), fontFace=font, fontScale=1, color=(0,255,0), thickness=2, lineType=cv2.LINE_AA)\n",
    "    res = cv2.rectangle(img, tuple(approx[0][0]), tuple(approx[2][0]), (0,255,0),3)\n",
    "    # plt.imshow(cv2.cvtColor(res, cv2.COLOR_BGR2RGB))\n",
    "    \n",
    "    return text"
   ]
  },
  {
   "cell_type": "code",
   "execution_count": 10,
   "id": "8fbd275a",
   "metadata": {},
   "outputs": [],
   "source": [
    "# Method to change the predicted license plate text to correct format\n",
    "\n",
    "def Format_LicenseNumber(number):\n",
    "    # Number must be a alphanumeric. So remove other characters\n",
    "    number = re.sub('[^0-9a-zA-Z]+', '', number)\n",
    "    \n",
    "    # Maximum characters the number can have is 8\n",
    "    number = number[:7]\n",
    "    \n",
    "    # The alphabet part of the number is seperated from number part using space or '-'. We are using '-'\n",
    "    n = re.search(r\"\\d\", number)\n",
    "    number = number[:n.start()] + '-' + number[n.start():]\n",
    "    \n",
    "    # All the alphabets must be in upper case\n",
    "    number = number.upper()\n",
    "    \n",
    "    return number"
   ]
  },
  {
   "cell_type": "code",
   "execution_count": 11,
   "id": "dac5681b",
   "metadata": {
    "scrolled": true
   },
   "outputs": [
    {
     "name": "stdout",
     "output_type": "stream",
     "text": [
      "Frame  0\n"
     ]
    },
    {
     "name": "stderr",
     "output_type": "stream",
     "text": [
      "<ipython-input-11-e844724bfe47>:32: FutureWarning: `multichannel` is a deprecated argument name for `structural_similarity`. It will be removed in version 1.0. Please use `channel_axis` instead.\n",
      "  s, difference_score = structural_similarity(\n"
     ]
    },
    {
     "name": "stdout",
     "output_type": "stream",
     "text": [
      "Frame  1\n",
      "Frame  2\n",
      "Frame  3\n",
      "Frame  4\n",
      "Frame  5\n",
      "Frame  6\n",
      "Frame  7\n",
      "Frame  8\n",
      "Frame  9\n",
      "Frame  10\n",
      "Frame  11\n",
      "Frame  12\n",
      "Frame  13\n",
      "Frame  14\n",
      "Frame  15\n",
      "Frame  16\n",
      "Frame  17\n",
      "Frame  18\n",
      "Frame  19\n",
      "Frame  20\n",
      "Frame  21\n",
      "Frame  22\n",
      "Frame  23\n",
      "Frame  24\n",
      "Frame  25\n",
      "Frame  26\n",
      "Frame  27\n",
      "Frame  28\n",
      "Frame  29\n"
     ]
    },
    {
     "name": "stderr",
     "output_type": "stream",
     "text": [
      "CUDA not available - defaulting to CPU. Note: This module is much faster with a GPU.\n"
     ]
    },
    {
     "name": "stdout",
     "output_type": "stream",
     "text": [
      "['car', tensor(179.8255), tensor(628.8857), tensor(330.1605), tensor(828.8596)]\n",
      "moving vehicle detected\n",
      "violation\n",
      "License Plate Number:  \n",
      "Frame  30\n",
      "Frame  31\n"
     ]
    },
    {
     "name": "stderr",
     "output_type": "stream",
     "text": [
      "CUDA not available - defaulting to CPU. Note: This module is much faster with a GPU.\n"
     ]
    },
    {
     "name": "stdout",
     "output_type": "stream",
     "text": [
      "['car', tensor(380.0526), tensor(561.3874), tensor(753.8178), tensor(975.0640)]\n",
      "moving vehicle detected\n",
      "violation\n"
     ]
    },
    {
     "name": "stderr",
     "output_type": "stream",
     "text": [
      "CUDA not available - defaulting to CPU. Note: This module is much faster with a GPU.\n"
     ]
    },
    {
     "name": "stdout",
     "output_type": "stream",
     "text": [
      "License Plate Number:  \n",
      "Frame  32\n"
     ]
    },
    {
     "name": "stderr",
     "output_type": "stream",
     "text": [
      "CUDA not available - defaulting to CPU. Note: This module is much faster with a GPU.\n"
     ]
    },
    {
     "name": "stdout",
     "output_type": "stream",
     "text": [
      "['car', tensor(457.3336), tensor(559.2515), tensor(844.1042), tensor(963.8323)]\n",
      "moving vehicle detected\n",
      "violation\n"
     ]
    },
    {
     "name": "stderr",
     "output_type": "stream",
     "text": [
      "CUDA not available - defaulting to CPU. Note: This module is much faster with a GPU.\n"
     ]
    },
    {
     "name": "stdout",
     "output_type": "stream",
     "text": [
      "License Plate Number:  \n",
      "Frame  33\n"
     ]
    },
    {
     "name": "stderr",
     "output_type": "stream",
     "text": [
      "CUDA not available - defaulting to CPU. Note: This module is much faster with a GPU.\n"
     ]
    },
    {
     "name": "stdout",
     "output_type": "stream",
     "text": [
      "['car', tensor(503.3014), tensor(557.7495), tensor(1083.5786), tensor(984.6570)]\n",
      "moving vehicle detected\n",
      "violation\n",
      "License Plate Number:  \n",
      "Frame  34\n"
     ]
    },
    {
     "name": "stderr",
     "output_type": "stream",
     "text": [
      "CUDA not available - defaulting to CPU. Note: This module is much faster with a GPU.\n"
     ]
    },
    {
     "name": "stdout",
     "output_type": "stream",
     "text": [
      "['car', tensor(571.6584), tensor(542.0151), tensor(1201.6248), tensor(1025.8159)]\n",
      "moving vehicle detected\n",
      "violation\n",
      "License Plate Number:  \n",
      "Frame  35\n"
     ]
    },
    {
     "name": "stderr",
     "output_type": "stream",
     "text": [
      "CUDA not available - defaulting to CPU. Note: This module is much faster with a GPU.\n"
     ]
    },
    {
     "name": "stdout",
     "output_type": "stream",
     "text": [
      "['car', tensor(621.9260), tensor(532.0681), tensor(1439.0106), tensor(1021.2847)]\n",
      "moving vehicle detected\n",
      "violation\n",
      "License Plate Number:  \n",
      "Frame  36\n"
     ]
    },
    {
     "name": "stderr",
     "output_type": "stream",
     "text": [
      "CUDA not available - defaulting to CPU. Note: This module is much faster with a GPU.\n"
     ]
    },
    {
     "name": "stdout",
     "output_type": "stream",
     "text": [
      "['car', tensor(759.6407), tensor(482.4032), tensor(1712.3458), tensor(1060.0632)]\n",
      "moving vehicle detected\n",
      "License Plate Number:  \n",
      "Frame  37\n"
     ]
    },
    {
     "name": "stderr",
     "output_type": "stream",
     "text": [
      "CUDA not available - defaulting to CPU. Note: This module is much faster with a GPU.\n"
     ]
    },
    {
     "name": "stdout",
     "output_type": "stream",
     "text": [
      "['car', tensor(759.6407), tensor(482.4032), tensor(1712.3458), tensor(1060.0632)]\n",
      "moving vehicle detected\n",
      "License Plate Number:  \n",
      "Frame  38\n",
      "Frame  39\n",
      "Frame  40\n",
      "Frame  41\n"
     ]
    },
    {
     "name": "stderr",
     "output_type": "stream",
     "text": [
      "CUDA not available - defaulting to CPU. Note: This module is much faster with a GPU.\n"
     ]
    },
    {
     "name": "stdout",
     "output_type": "stream",
     "text": [
      "['car', tensor(906.5643), tensor(472.0809), tensor(1793.1831), tensor(912.2879)]\n",
      "moving vehicle detected\n"
     ]
    },
    {
     "name": "stderr",
     "output_type": "stream",
     "text": [
      "CUDA not available - defaulting to CPU. Note: This module is much faster with a GPU.\n"
     ]
    },
    {
     "name": "stdout",
     "output_type": "stream",
     "text": [
      "License Plate Number:  Dlt3\n",
      "Frame  42\n"
     ]
    },
    {
     "name": "stderr",
     "output_type": "stream",
     "text": [
      "CUDA not available - defaulting to CPU. Note: This module is much faster with a GPU.\n"
     ]
    },
    {
     "name": "stdout",
     "output_type": "stream",
     "text": [
      "['car', tensor(996.8563), tensor(456.3412), tensor(1785.7592), tensor(964.5266)]\n",
      "moving vehicle detected\n",
      "License Plate Number:  863\n",
      "Frame  43\n"
     ]
    },
    {
     "name": "stderr",
     "output_type": "stream",
     "text": [
      "CUDA not available - defaulting to CPU. Note: This module is much faster with a GPU.\n"
     ]
    },
    {
     "name": "stdout",
     "output_type": "stream",
     "text": [
      "['car', tensor(1083.6235), tensor(459.2396), tensor(1643.0190), tensor(916.7296)]\n",
      "moving vehicle detected\n"
     ]
    },
    {
     "name": "stderr",
     "output_type": "stream",
     "text": [
      "CUDA not available - defaulting to CPU. Note: This module is much faster with a GPU.\n"
     ]
    },
    {
     "name": "stdout",
     "output_type": "stream",
     "text": [
      "License Plate Number:  863\n",
      "Frame  44\n"
     ]
    },
    {
     "name": "stderr",
     "output_type": "stream",
     "text": [
      "CUDA not available - defaulting to CPU. Note: This module is much faster with a GPU.\n"
     ]
    },
    {
     "name": "stdout",
     "output_type": "stream",
     "text": [
      "['car', tensor(1151.0371), tensor(405.5962), tensor(1599.8142), tensor(839.0323)]\n",
      "moving vehicle detected\n",
      "License Plate Number:  SNR:863]\n",
      "Frame  45\n"
     ]
    },
    {
     "name": "stderr",
     "output_type": "stream",
     "text": [
      "CUDA not available - defaulting to CPU. Note: This module is much faster with a GPU.\n"
     ]
    },
    {
     "name": "stdout",
     "output_type": "stream",
     "text": [
      "['car', tensor(1229.1080), tensor(406.3332), tensor(1505.4540), tensor(838.6633)]\n",
      "moving vehicle detected\n",
      "License Plate Number:  JSNR-863]\n",
      "Frame  46\n"
     ]
    },
    {
     "name": "stderr",
     "output_type": "stream",
     "text": [
      "CUDA not available - defaulting to CPU. Note: This module is much faster with a GPU.\n"
     ]
    },
    {
     "name": "stdout",
     "output_type": "stream",
     "text": [
      "['truck', tensor(1318.9503), tensor(395.7004), tensor(1104.3846), tensor(859.7316)]\n",
      "moving vehicle detected\n",
      "License Plate Number:  BSNR: 863\n",
      "Frame  47\n"
     ]
    },
    {
     "name": "stderr",
     "output_type": "stream",
     "text": [
      "CUDA not available - defaulting to CPU. Note: This module is much faster with a GPU.\n"
     ]
    },
    {
     "name": "stdout",
     "output_type": "stream",
     "text": [
      "['truck', tensor(1371.1023), tensor(392.1983), tensor(1107.2399), tensor(796.5661)]\n",
      "moving vehicle detected\n",
      "License Plate Number:  BSHR : 863 \n",
      "Frame  48\n"
     ]
    },
    {
     "name": "stderr",
     "output_type": "stream",
     "text": [
      "CUDA not available - defaulting to CPU. Note: This module is much faster with a GPU.\n"
     ]
    },
    {
     "name": "stdout",
     "output_type": "stream",
     "text": [
      "['truck', tensor(1424.2554), tensor(383.8369), tensor(1060.1903), tensor(753.7276)]\n",
      "moving vehicle detected\n"
     ]
    },
    {
     "name": "stderr",
     "output_type": "stream",
     "text": [
      "CUDA not available - defaulting to CPU. Note: This module is much faster with a GPU.\n"
     ]
    },
    {
     "name": "stdout",
     "output_type": "stream",
     "text": [
      "License Plate Number:  BSNR : 863|\n",
      "Frame  49\n"
     ]
    },
    {
     "name": "stderr",
     "output_type": "stream",
     "text": [
      "CUDA not available - defaulting to CPU. Note: This module is much faster with a GPU.\n"
     ]
    },
    {
     "name": "stdout",
     "output_type": "stream",
     "text": [
      "['truck', tensor(1463.7672), tensor(387.8629), tensor(967.1049), tensor(724.8970)]\n",
      "moving vehicle detected\n"
     ]
    },
    {
     "name": "stderr",
     "output_type": "stream",
     "text": [
      "CUDA not available - defaulting to CPU. Note: This module is much faster with a GPU.\n"
     ]
    },
    {
     "name": "stdout",
     "output_type": "stream",
     "text": [
      "License Plate Number:  BSHR:863\n",
      "Frame  50\n"
     ]
    },
    {
     "name": "stderr",
     "output_type": "stream",
     "text": [
      "CUDA not available - defaulting to CPU. Note: This module is much faster with a GPU.\n"
     ]
    },
    {
     "name": "stdout",
     "output_type": "stream",
     "text": [
      "['truck', tensor(1493.0010), tensor(381.6194), tensor(875.7791), tensor(650.5543)]\n",
      "moving vehicle detected\n"
     ]
    },
    {
     "name": "stderr",
     "output_type": "stream",
     "text": [
      "CUDA not available - defaulting to CPU. Note: This module is much faster with a GPU.\n"
     ]
    },
    {
     "name": "stdout",
     "output_type": "stream",
     "text": [
      "License Plate Number:  BSHR:8636\n",
      "Frame  51\n"
     ]
    },
    {
     "name": "stderr",
     "output_type": "stream",
     "text": [
      "CUDA not available - defaulting to CPU. Note: This module is much faster with a GPU.\n"
     ]
    },
    {
     "name": "stdout",
     "output_type": "stream",
     "text": [
      "['truck', tensor(1571.8176), tensor(381.4620), tensor(745.8872), tensor(611.8109)]\n",
      "moving vehicle detected\n",
      "License Plate Number:  BSHR.863]\n",
      "Frame  52\n"
     ]
    },
    {
     "name": "stderr",
     "output_type": "stream",
     "text": [
      "CUDA not available - defaulting to CPU. Note: This module is much faster with a GPU.\n"
     ]
    },
    {
     "name": "stdout",
     "output_type": "stream",
     "text": [
      "['truck', tensor(1597.3634), tensor(384.8185), tensor(656.6685), tensor(625.4827)]\n",
      "moving vehicle detected\n",
      "License Plate Number:  BSHR 8636\n",
      "Frame  53\n"
     ]
    },
    {
     "name": "stderr",
     "output_type": "stream",
     "text": [
      "CUDA not available - defaulting to CPU. Note: This module is much faster with a GPU.\n"
     ]
    },
    {
     "name": "stdout",
     "output_type": "stream",
     "text": [
      "['truck', tensor(1614.8649), tensor(384.8422), tensor(631.7949), tensor(622.4178)]\n",
      "moving vehicle detected\n"
     ]
    },
    {
     "name": "stderr",
     "output_type": "stream",
     "text": [
      "CUDA not available - defaulting to CPU. Note: This module is much faster with a GPU.\n"
     ]
    },
    {
     "name": "stdout",
     "output_type": "stream",
     "text": [
      "License Plate Number:  BSKR4853\n",
      "Frame  54\n"
     ]
    },
    {
     "name": "stderr",
     "output_type": "stream",
     "text": [
      "CUDA not available - defaulting to CPU. Note: This module is much faster with a GPU.\n"
     ]
    },
    {
     "name": "stdout",
     "output_type": "stream",
     "text": [
      "['truck', tensor(1652.1973), tensor(383.3214), tensor(558.9153), tensor(579.7422)]\n",
      "moving vehicle detected\n",
      "License Plate Number:  BSLR.853\n",
      "Frame  55\n"
     ]
    },
    {
     "name": "stderr",
     "output_type": "stream",
     "text": [
      "CUDA not available - defaulting to CPU. Note: This module is much faster with a GPU.\n"
     ]
    },
    {
     "name": "stdout",
     "output_type": "stream",
     "text": [
      "['truck', tensor(1685.0674), tensor(386.6660), tensor(491.3727), tensor(588.8176)]\n",
      "moving vehicle detected\n",
      "License Plate Number:  BS4R E63\n",
      "Frame  56\n"
     ]
    },
    {
     "name": "stderr",
     "output_type": "stream",
     "text": [
      "CUDA not available - defaulting to CPU. Note: This module is much faster with a GPU.\n"
     ]
    },
    {
     "name": "stdout",
     "output_type": "stream",
     "text": [
      "['truck', tensor(1727.8745), tensor(380.4850), tensor(404.4385), tensor(576.6227)]\n",
      "moving vehicle detected\n",
      "License Plate Number:  EDB]\n",
      "Frame  57\n"
     ]
    },
    {
     "name": "stderr",
     "output_type": "stream",
     "text": [
      "CUDA not available - defaulting to CPU. Note: This module is much faster with a GPU.\n"
     ]
    },
    {
     "name": "stdout",
     "output_type": "stream",
     "text": [
      "['car', tensor(1738.2031), tensor(385.3978), tensor(373.0540), tensor(582.1192)]\n",
      "moving vehicle detected\n"
     ]
    },
    {
     "name": "stderr",
     "output_type": "stream",
     "text": [
      "CUDA not available - defaulting to CPU. Note: This module is much faster with a GPU.\n"
     ]
    },
    {
     "name": "stdout",
     "output_type": "stream",
     "text": [
      "License Plate Number:  \n",
      "Frame  58\n"
     ]
    },
    {
     "name": "stderr",
     "output_type": "stream",
     "text": [
      "CUDA not available - defaulting to CPU. Note: This module is much faster with a GPU.\n"
     ]
    },
    {
     "name": "stdout",
     "output_type": "stream",
     "text": [
      "['bus', tensor(1755.1392), tensor(394.2306), tensor(312.3446), tensor(581.5355)]\n",
      "moving vehicle detected\n",
      "License Plate Number:  \n",
      "Frame  59\n"
     ]
    },
    {
     "name": "stderr",
     "output_type": "stream",
     "text": [
      "CUDA not available - defaulting to CPU. Note: This module is much faster with a GPU.\n"
     ]
    },
    {
     "name": "stdout",
     "output_type": "stream",
     "text": [
      "['bus', tensor(1766.4862), tensor(391.3019), tensor(289.3826), tensor(597.5792)]\n",
      "moving vehicle detected\n",
      "License Plate Number:  \n",
      "Frame  60\n"
     ]
    },
    {
     "name": "stderr",
     "output_type": "stream",
     "text": [
      "CUDA not available - defaulting to CPU. Note: This module is much faster with a GPU.\n"
     ]
    },
    {
     "name": "stdout",
     "output_type": "stream",
     "text": [
      "['bus', tensor(1785.1667), tensor(388.3363), tensor(252.2841), tensor(564.6243)]\n",
      "moving vehicle detected\n",
      "License Plate Number:  \n",
      "Frame  61\n"
     ]
    },
    {
     "name": "stderr",
     "output_type": "stream",
     "text": [
      "CUDA not available - defaulting to CPU. Note: This module is much faster with a GPU.\n"
     ]
    },
    {
     "name": "stdout",
     "output_type": "stream",
     "text": [
      "['bus', tensor(1817.1128), tensor(388.6665), tensor(190.4328), tensor(475.0395)]\n",
      "moving vehicle detected\n",
      "License Plate Number:  \n",
      "Frame  62\n"
     ]
    },
    {
     "name": "stderr",
     "output_type": "stream",
     "text": [
      "CUDA not available - defaulting to CPU. Note: This module is much faster with a GPU.\n"
     ]
    },
    {
     "name": "stdout",
     "output_type": "stream",
     "text": [
      "['bus', tensor(1832.7567), tensor(388.5034), tensor(157.4842), tensor(490.1601)]\n",
      "moving vehicle detected\n"
     ]
    },
    {
     "name": "stderr",
     "output_type": "stream",
     "text": [
      "CUDA not available - defaulting to CPU. Note: This module is much faster with a GPU.\n"
     ]
    },
    {
     "name": "stdout",
     "output_type": "stream",
     "text": [
      "License Plate Number:  \n",
      "Frame  63\n"
     ]
    },
    {
     "name": "stderr",
     "output_type": "stream",
     "text": [
      "CUDA not available - defaulting to CPU. Note: This module is much faster with a GPU.\n"
     ]
    },
    {
     "name": "stdout",
     "output_type": "stream",
     "text": [
      "['truck', tensor(1850.7465), tensor(389.5703), tensor(129.9229), tensor(424.8117)]\n",
      "moving vehicle detected\n"
     ]
    },
    {
     "name": "stderr",
     "output_type": "stream",
     "text": [
      "CUDA not available - defaulting to CPU. Note: This module is much faster with a GPU.\n"
     ]
    },
    {
     "name": "stdout",
     "output_type": "stream",
     "text": [
      "License Plate Number:  \n",
      "Frame  64\n"
     ]
    },
    {
     "name": "stderr",
     "output_type": "stream",
     "text": [
      "CUDA not available - defaulting to CPU. Note: This module is much faster with a GPU.\n"
     ]
    },
    {
     "name": "stdout",
     "output_type": "stream",
     "text": [
      "['truck', tensor(1856.4310), tensor(391.3969), tensor(115.8843), tensor(401.8772)]\n",
      "moving vehicle detected\n"
     ]
    },
    {
     "name": "stderr",
     "output_type": "stream",
     "text": [
      "CUDA not available - defaulting to CPU. Note: This module is much faster with a GPU.\n"
     ]
    },
    {
     "name": "stdout",
     "output_type": "stream",
     "text": [
      "License Plate Number:  \n",
      "Frame  65\n"
     ]
    },
    {
     "name": "stderr",
     "output_type": "stream",
     "text": [
      "CUDA not available - defaulting to CPU. Note: This module is much faster with a GPU.\n"
     ]
    },
    {
     "name": "stdout",
     "output_type": "stream",
     "text": [
      "['truck', tensor(1863.5920), tensor(388.3695), tensor(107.4950), tensor(457.1833)]\n",
      "moving vehicle detected\n"
     ]
    },
    {
     "name": "stderr",
     "output_type": "stream",
     "text": [
      "CUDA not available - defaulting to CPU. Note: This module is much faster with a GPU.\n"
     ]
    },
    {
     "name": "stdout",
     "output_type": "stream",
     "text": [
      "License Plate Number:  \n",
      "Frame  66\n"
     ]
    },
    {
     "name": "stderr",
     "output_type": "stream",
     "text": [
      "CUDA not available - defaulting to CPU. Note: This module is much faster with a GPU.\n"
     ]
    },
    {
     "name": "stdout",
     "output_type": "stream",
     "text": [
      "['truck', tensor(1891.8390), tensor(398.9523), tensor(49.6751), tensor(395.1354)]\n",
      "moving vehicle detected\n",
      "License Plate Number:  \n",
      "Frame  67\n",
      "Frame  68\n",
      "Frame  69\n",
      "Frame  70\n",
      "Frame  71\n",
      "Frame  72\n",
      "Frame  73\n",
      "Frame  74\n",
      "Frame  75\n",
      "Frame  76\n",
      "Frame  77\n",
      "Frame  78\n",
      "Frame  79\n",
      "Frame  80\n",
      "Frame  81\n",
      "Frame  82\n",
      "Frame  83\n",
      "Frame  84\n",
      "Frame  85\n",
      "Frame  86\n",
      "Frame  87\n",
      "Frame  88\n",
      "Frame  89\n",
      "Frame  90\n",
      "Frame  91\n",
      "Frame  92\n",
      "Frame  93\n",
      "Frame  94\n",
      "Frame  95\n",
      "Frame  96\n",
      "Frame  97\n",
      "Frame  98\n",
      "Frame  99\n",
      "Frame  100\n",
      "Frame  101\n",
      "Frame  102\n",
      "Frame  103\n",
      "Frame  104\n",
      "Frame  105\n",
      "Frame  106\n",
      "Frame  107\n",
      "Frame  108\n",
      "Frame  109\n",
      "Frame  110\n",
      "Frame  111\n",
      "Frame  112\n",
      "Frame  113\n",
      "Frame  114\n",
      "Frame  115\n",
      "Frame  116\n",
      "Frame  117\n",
      "Frame  118\n",
      "Frame  119\n",
      "Frame  120\n",
      "Frame  121\n",
      "Frame  122\n",
      "Frame  123\n",
      "Frame  124\n",
      "Frame  125\n",
      "Frame  126\n",
      "Frame  127\n",
      "Frame  128\n",
      "Frame  129\n",
      "Frame  130\n",
      "Frame  131\n",
      "Frame  132\n",
      "Frame  133\n",
      "Frame  134\n",
      "Frame  135\n",
      "Frame  136\n",
      "Frame  137\n",
      "Frame  138\n",
      "Frame  139\n",
      "Frame  140\n",
      "Frame  141\n",
      "Frame  142\n",
      "Frame  143\n",
      "Frame  144\n",
      "Frame  145\n"
     ]
    },
    {
     "name": "stderr",
     "output_type": "stream",
     "text": [
      "CUDA not available - defaulting to CPU. Note: This module is much faster with a GPU.\n"
     ]
    },
    {
     "name": "stdout",
     "output_type": "stream",
     "text": [
      "['car', tensor(308.7167), tensor(641.4529), tensor(543.8564), tensor(869.3550)]\n",
      "moving vehicle detected\n",
      "violation\n",
      "License Plate Number:  \n",
      "Frame  146\n"
     ]
    },
    {
     "name": "stderr",
     "output_type": "stream",
     "text": [
      "CUDA not available - defaulting to CPU. Note: This module is much faster with a GPU.\n"
     ]
    },
    {
     "name": "stdout",
     "output_type": "stream",
     "text": [
      "['car', tensor(392.8226), tensor(561.0364), tensor(720.2965), tensor(881.1605)]\n",
      "moving vehicle detected\n",
      "violation\n"
     ]
    },
    {
     "name": "stderr",
     "output_type": "stream",
     "text": [
      "CUDA not available - defaulting to CPU. Note: This module is much faster with a GPU.\n"
     ]
    },
    {
     "name": "stdout",
     "output_type": "stream",
     "text": [
      "License Plate Number:  \n",
      "Frame  147\n"
     ]
    },
    {
     "name": "stderr",
     "output_type": "stream",
     "text": [
      "CUDA not available - defaulting to CPU. Note: This module is much faster with a GPU.\n"
     ]
    },
    {
     "name": "stdout",
     "output_type": "stream",
     "text": [
      "['car', tensor(459.2908), tensor(535.5891), tensor(895.7184), tensor(946.5170)]\n",
      "moving vehicle detected\n",
      "violation\n"
     ]
    },
    {
     "name": "stderr",
     "output_type": "stream",
     "text": [
      "CUDA not available - defaulting to CPU. Note: This module is much faster with a GPU.\n"
     ]
    },
    {
     "name": "stdout",
     "output_type": "stream",
     "text": [
      "License Plate Number:  \n",
      "Frame  148\n"
     ]
    },
    {
     "name": "stderr",
     "output_type": "stream",
     "text": [
      "CUDA not available - defaulting to CPU. Note: This module is much faster with a GPU.\n"
     ]
    },
    {
     "name": "stdout",
     "output_type": "stream",
     "text": [
      "['car', tensor(536.7670), tensor(527.6555), tensor(1048.3464), tensor(1010.8023)]\n",
      "moving vehicle detected\n",
      "violation\n",
      "License Plate Number:  \n",
      "Frame  149\n"
     ]
    },
    {
     "name": "stderr",
     "output_type": "stream",
     "text": [
      "CUDA not available - defaulting to CPU. Note: This module is much faster with a GPU.\n"
     ]
    },
    {
     "name": "stdout",
     "output_type": "stream",
     "text": [
      "['car', tensor(536.7670), tensor(527.6555), tensor(1048.3464), tensor(1010.8023)]\n",
      "moving vehicle detected\n",
      "violation\n"
     ]
    },
    {
     "name": "stderr",
     "output_type": "stream",
     "text": [
      "CUDA not available - defaulting to CPU. Note: This module is much faster with a GPU.\n"
     ]
    },
    {
     "name": "stdout",
     "output_type": "stream",
     "text": [
      "License Plate Number:  \n",
      "Frame  150\n"
     ]
    },
    {
     "name": "stderr",
     "output_type": "stream",
     "text": [
      "CUDA not available - defaulting to CPU. Note: This module is much faster with a GPU.\n"
     ]
    },
    {
     "name": "stdout",
     "output_type": "stream",
     "text": [
      "['car', tensor(696.8968), tensor(530.6461), tensor(1456.5148), tensor(949.8625)]\n",
      "moving vehicle detected\n",
      "violation\n",
      "License Plate Number:  \n",
      "Frame  151\n"
     ]
    },
    {
     "name": "stderr",
     "output_type": "stream",
     "text": [
      "CUDA not available - defaulting to CPU. Note: This module is much faster with a GPU.\n"
     ]
    },
    {
     "name": "stdout",
     "output_type": "stream",
     "text": [
      "['car', tensor(696.8968), tensor(530.6461), tensor(1456.5148), tensor(949.8625)]\n",
      "moving vehicle detected\n",
      "violation\n",
      "License Plate Number:  \n",
      "Frame  152\n"
     ]
    },
    {
     "name": "stderr",
     "output_type": "stream",
     "text": [
      "CUDA not available - defaulting to CPU. Note: This module is much faster with a GPU.\n"
     ]
    },
    {
     "name": "stdout",
     "output_type": "stream",
     "text": [
      "['car', tensor(766.0770), tensor(488.7991), tensor(1505.0031), tensor(854.8486)]\n",
      "moving vehicle detected\n",
      "License Plate Number:  \n",
      "Frame  153\n"
     ]
    },
    {
     "name": "stderr",
     "output_type": "stream",
     "text": [
      "CUDA not available - defaulting to CPU. Note: This module is much faster with a GPU.\n"
     ]
    },
    {
     "name": "stdout",
     "output_type": "stream",
     "text": [
      "['car', tensor(772.0391), tensor(490.4298), tensor(1513.2166), tensor(841.0269)]\n",
      "moving vehicle detected\n",
      "License Plate Number:  LDER 342\n",
      "Frame  154\n"
     ]
    },
    {
     "name": "stderr",
     "output_type": "stream",
     "text": [
      "CUDA not available - defaulting to CPU. Note: This module is much faster with a GPU.\n"
     ]
    },
    {
     "name": "stdout",
     "output_type": "stream",
     "text": [
      "['car', tensor(820.5717), tensor(489.4082), tensor(1577.5752), tensor(784.5767)]\n",
      "moving vehicle detected\n",
      "License Plate Number:  LDER: 342\n",
      "Frame  155\n",
      "Frame  156\n"
     ]
    },
    {
     "name": "stderr",
     "output_type": "stream",
     "text": [
      "CUDA not available - defaulting to CPU. Note: This module is much faster with a GPU.\n"
     ]
    },
    {
     "name": "stdout",
     "output_type": "stream",
     "text": [
      "['car', tensor(1112.0012), tensor(482.1555), tensor(1302.2601), tensor(676.4926)]\n",
      "moving vehicle detected\n",
      "License Plate Number:  CDER: 342\n",
      "Frame  157\n"
     ]
    },
    {
     "name": "stderr",
     "output_type": "stream",
     "text": [
      "CUDA not available - defaulting to CPU. Note: This module is much faster with a GPU.\n"
     ]
    },
    {
     "name": "stdout",
     "output_type": "stream",
     "text": [
      "['car', tensor(1175.9626), tensor(487.4839), tensor(1111.2662), tensor(659.2895)]\n",
      "moving vehicle detected\n",
      "License Plate Number:  CDER: 342\n",
      "Frame  158\n"
     ]
    },
    {
     "name": "stderr",
     "output_type": "stream",
     "text": [
      "CUDA not available - defaulting to CPU. Note: This module is much faster with a GPU.\n"
     ]
    },
    {
     "name": "stdout",
     "output_type": "stream",
     "text": [
      "['car', tensor(1264.1948), tensor(477.9031), tensor(1134.0555), tensor(601.2146)]\n",
      "moving vehicle detected\n",
      "License Plate Number:  CDER: 342\n",
      "Frame  159\n"
     ]
    },
    {
     "name": "stderr",
     "output_type": "stream",
     "text": [
      "CUDA not available - defaulting to CPU. Note: This module is much faster with a GPU.\n"
     ]
    },
    {
     "name": "stdout",
     "output_type": "stream",
     "text": [
      "['car', tensor(1337.8126), tensor(476.2117), tensor(1133.1416), tensor(579.1707)]\n",
      "moving vehicle detected\n",
      "License Plate Number:  DER 342\n",
      "Frame  160\n"
     ]
    },
    {
     "name": "stderr",
     "output_type": "stream",
     "text": [
      "CUDA not available - defaulting to CPU. Note: This module is much faster with a GPU.\n"
     ]
    },
    {
     "name": "stdout",
     "output_type": "stream",
     "text": [
      "['car', tensor(1393.4965), tensor(473.9747), tensor(1027.4277), tensor(543.7248)]\n",
      "moving vehicle detected\n",
      "License Plate Number:  LDER: 347\n",
      "Frame  161\n"
     ]
    },
    {
     "name": "stderr",
     "output_type": "stream",
     "text": [
      "CUDA not available - defaulting to CPU. Note: This module is much faster with a GPU.\n"
     ]
    },
    {
     "name": "stdout",
     "output_type": "stream",
     "text": [
      "['car', tensor(1488.6722), tensor(470.8572), tensor(843.4451), tensor(499.5687)]\n",
      "moving vehicle detected\n",
      "License Plate Number:  QDER342\n",
      "Frame  162\n"
     ]
    },
    {
     "name": "stderr",
     "output_type": "stream",
     "text": [
      "CUDA not available - defaulting to CPU. Note: This module is much faster with a GPU.\n"
     ]
    },
    {
     "name": "stdout",
     "output_type": "stream",
     "text": [
      "['car', tensor(1532.9164), tensor(468.2068), tensor(777.3958), tensor(491.0720)]\n",
      "moving vehicle detected\n",
      "License Plate Number:  QOER 32\n",
      "Frame  163\n"
     ]
    },
    {
     "name": "stderr",
     "output_type": "stream",
     "text": [
      "CUDA not available - defaulting to CPU. Note: This module is much faster with a GPU.\n"
     ]
    },
    {
     "name": "stdout",
     "output_type": "stream",
     "text": [
      "['car', tensor(1565.2616), tensor(463.3304), tensor(717.7347), tensor(470.4390)]\n",
      "moving vehicle detected\n",
      "License Plate Number:  LOER 32\n",
      "Frame  164\n"
     ]
    },
    {
     "name": "stderr",
     "output_type": "stream",
     "text": [
      "CUDA not available - defaulting to CPU. Note: This module is much faster with a GPU.\n"
     ]
    },
    {
     "name": "stdout",
     "output_type": "stream",
     "text": [
      "['car', tensor(1604.4573), tensor(460.8045), tensor(664.1299), tensor(446.9592)]\n",
      "moving vehicle detected\n",
      "License Plate Number:  LdER 22\n",
      "Frame  165\n"
     ]
    },
    {
     "name": "stderr",
     "output_type": "stream",
     "text": [
      "CUDA not available - defaulting to CPU. Note: This module is much faster with a GPU.\n"
     ]
    },
    {
     "name": "stdout",
     "output_type": "stream",
     "text": [
      "['car', tensor(1631.9905), tensor(459.8977), tensor(559.1119), tensor(426.2947)]\n",
      "moving vehicle detected\n",
      "License Plate Number:  LDER 31\n",
      "Frame  166\n"
     ]
    },
    {
     "name": "stderr",
     "output_type": "stream",
     "text": [
      "CUDA not available - defaulting to CPU. Note: This module is much faster with a GPU.\n"
     ]
    },
    {
     "name": "stdout",
     "output_type": "stream",
     "text": [
      "['car', tensor(1687.8778), tensor(458.2880), tensor(459.0216), tensor(390.4846)]\n",
      "moving vehicle detected\n",
      "License Plate Number:  W1BE\n",
      "Frame  167\n"
     ]
    },
    {
     "name": "stderr",
     "output_type": "stream",
     "text": [
      "CUDA not available - defaulting to CPU. Note: This module is much faster with a GPU.\n"
     ]
    },
    {
     "name": "stdout",
     "output_type": "stream",
     "text": [
      "['car', tensor(1709.0031), tensor(459.7949), tensor(418.1964), tensor(392.3526)]\n",
      "moving vehicle detected\n",
      "License Plate Number:  Q1\n",
      "Frame  168\n"
     ]
    },
    {
     "name": "stderr",
     "output_type": "stream",
     "text": [
      "CUDA not available - defaulting to CPU. Note: This module is much faster with a GPU.\n"
     ]
    },
    {
     "name": "stdout",
     "output_type": "stream",
     "text": [
      "['car', tensor(1724.2758), tensor(450.0304), tensor(391.6458), tensor(370.3815)]\n",
      "moving vehicle detected\n",
      "License Plate Number:  [\n",
      "Frame  169\n"
     ]
    },
    {
     "name": "stderr",
     "output_type": "stream",
     "text": [
      "CUDA not available - defaulting to CPU. Note: This module is much faster with a GPU.\n"
     ]
    },
    {
     "name": "stdout",
     "output_type": "stream",
     "text": [
      "['car', tensor(1741.5295), tensor(444.1102), tensor(330.7107), tensor(380.8855)]\n",
      "moving vehicle detected\n",
      "License Plate Number:  \n",
      "Frame  170\n"
     ]
    },
    {
     "name": "stderr",
     "output_type": "stream",
     "text": [
      "CUDA not available - defaulting to CPU. Note: This module is much faster with a GPU.\n"
     ]
    },
    {
     "name": "stdout",
     "output_type": "stream",
     "text": [
      "['car', tensor(1761.1917), tensor(440.3605), tensor(309.9588), tensor(370.2394)]\n",
      "moving vehicle detected\n"
     ]
    },
    {
     "name": "stderr",
     "output_type": "stream",
     "text": [
      "CUDA not available - defaulting to CPU. Note: This module is much faster with a GPU.\n"
     ]
    },
    {
     "name": "stdout",
     "output_type": "stream",
     "text": [
      "License Plate Number:  \n",
      "Frame  171\n"
     ]
    },
    {
     "name": "stderr",
     "output_type": "stream",
     "text": [
      "CUDA not available - defaulting to CPU. Note: This module is much faster with a GPU.\n"
     ]
    },
    {
     "name": "stdout",
     "output_type": "stream",
     "text": [
      "['car', tensor(1795.1244), tensor(438.5493), tensor(228.2381), tensor(343.7592)]\n",
      "moving vehicle detected\n"
     ]
    },
    {
     "name": "stderr",
     "output_type": "stream",
     "text": [
      "CUDA not available - defaulting to CPU. Note: This module is much faster with a GPU.\n"
     ]
    },
    {
     "name": "stdout",
     "output_type": "stream",
     "text": [
      "License Plate Number:  \n",
      "Frame  172\n"
     ]
    },
    {
     "name": "stderr",
     "output_type": "stream",
     "text": [
      "CUDA not available - defaulting to CPU. Note: This module is much faster with a GPU.\n"
     ]
    },
    {
     "name": "stdout",
     "output_type": "stream",
     "text": [
      "['car', tensor(1817.2626), tensor(431.5049), tensor(196.3193), tensor(330.1132)]\n",
      "moving vehicle detected\n"
     ]
    },
    {
     "name": "stderr",
     "output_type": "stream",
     "text": [
      "CUDA not available - defaulting to CPU. Note: This module is much faster with a GPU.\n"
     ]
    },
    {
     "name": "stdout",
     "output_type": "stream",
     "text": [
      "License Plate Number:  \n",
      "Frame  173\n"
     ]
    },
    {
     "name": "stderr",
     "output_type": "stream",
     "text": [
      "CUDA not available - defaulting to CPU. Note: This module is much faster with a GPU.\n"
     ]
    },
    {
     "name": "stdout",
     "output_type": "stream",
     "text": [
      "['car', tensor(1834.4080), tensor(431.1974), tensor(154.7529), tensor(328.9727)]\n",
      "moving vehicle detected\n"
     ]
    },
    {
     "name": "stderr",
     "output_type": "stream",
     "text": [
      "CUDA not available - defaulting to CPU. Note: This module is much faster with a GPU.\n"
     ]
    },
    {
     "name": "stdout",
     "output_type": "stream",
     "text": [
      "License Plate Number:  \n",
      "Frame  174\n"
     ]
    },
    {
     "name": "stderr",
     "output_type": "stream",
     "text": [
      "CUDA not available - defaulting to CPU. Note: This module is much faster with a GPU.\n"
     ]
    },
    {
     "name": "stdout",
     "output_type": "stream",
     "text": [
      "['car', tensor(1849.3361), tensor(428.4414), tensor(121.6224), tensor(333.9543)]\n",
      "moving vehicle detected\n"
     ]
    },
    {
     "name": "stderr",
     "output_type": "stream",
     "text": [
      "CUDA not available - defaulting to CPU. Note: This module is much faster with a GPU.\n"
     ]
    },
    {
     "name": "stdout",
     "output_type": "stream",
     "text": [
      "License Plate Number:  \n",
      "Frame  175\n"
     ]
    },
    {
     "name": "stderr",
     "output_type": "stream",
     "text": [
      "CUDA not available - defaulting to CPU. Note: This module is much faster with a GPU.\n"
     ]
    },
    {
     "name": "stdout",
     "output_type": "stream",
     "text": [
      "['car', tensor(1864.8712), tensor(432.2876), tensor(112.1672), tensor(321.8727)]\n",
      "moving vehicle detected\n",
      "License Plate Number:  \n",
      "Frame  176\n",
      "Frame  177\n",
      "['person', tensor(1894.3302), tensor(450.5607), tensor(46.3058), tensor(253.0949)]\n",
      "moving object detected but not vehicle\n",
      "Frame  178\n",
      "Frame  179\n",
      "Frame  180\n",
      "Frame  181\n",
      "Frame  182\n",
      "Frame  183\n",
      "Frame  184\n",
      "Frame  185\n",
      "Frame  186\n",
      "Frame  187\n",
      "Frame  188\n",
      "Frame  189\n",
      "Frame  190\n",
      "Frame  191\n",
      "Frame  192\n",
      "Frame  193\n",
      "Frame  194\n",
      "Frame  195\n",
      "Frame  196\n",
      "Frame  197\n",
      "Frame  198\n",
      "Frame  199\n",
      "Frame  200\n",
      "Frame  201\n",
      "Frame  202\n",
      "Frame  203\n",
      "Frame  204\n",
      "Frame  205\n",
      "Frame  206\n",
      "Frame  207\n",
      "Frame  208\n",
      "Frame  209\n",
      "Frame  210\n",
      "Frame  211\n",
      "Frame  212\n",
      "Frame  213\n",
      "Frame  214\n",
      "Frame  215\n",
      "Frame  216\n",
      "Frame  217\n",
      "Frame  218\n",
      "Frame  219\n",
      "Frame  220\n",
      "Frame  221\n",
      "Frame  222\n",
      "Frame  223\n",
      "Frame  224\n",
      "Frame  225\n",
      "Frame  226\n",
      "Frame  227\n",
      "Frame  228\n",
      "Frame  229\n",
      "Frame  230\n",
      "Frame  231\n",
      "Frame  232\n",
      "Frame  233\n",
      "Frame  234\n",
      "Frame  235\n",
      "Frame  236\n",
      "Frame  237\n",
      "Frame  238\n",
      "Frame  239\n",
      "Frame  240\n",
      "Frame  241\n",
      "Frame  242\n",
      "Frame  243\n",
      "Frame  244\n",
      "Frame  245\n",
      "Frame  246\n",
      "Frame  247\n",
      "Frame  248\n"
     ]
    }
   ],
   "source": [
    "dict_moving_vehicles = {} # Dictionary that has details of all the moving vehicles, including whether it violated or not \n",
    "list_details= [] # List that has all the details of the moving vehicle detected in the image\n",
    "lines = [] # This is list that is used to note down all the observations in all the frame \n",
    "\n",
    "# We will be considering 2 consecutive frames at one time, find the difference between them to identify the moving objects alone\n",
    "# and find objects detected in all the 3 images and determine moving vehicles\n",
    "\n",
    "next_image=col_images[0]\n",
    "final_image=col_images[0]\n",
    "\n",
    "for frame in range(frames_count-1):\n",
    "\n",
    "    list_moving_vehicles = []\n",
    "    print(\"Frame \",frame)\n",
    "    lines.append(\"In frame \"+str(frame)+\":\")\n",
    "    prev_frame=col_images[frame] # The frame that is considered\n",
    "    next_frame=col_images[frame+1] # The next frame to the one that is considered\n",
    "    final_image=col_images[frame] # This is the final difference between the 2 frames we get\n",
    "    \n",
    "    # Finding the differnce between 2 images to detect moving objects\n",
    "    \n",
    "    # Preprocessing the images using Gaussian Blur\n",
    "\n",
    "    kernel_size = int(prev_frame.shape[1]/50)\n",
    "    # must be odd if median\n",
    "    kernel_size += kernel_size%2-1\n",
    "    img_prev_blurred = cv2.GaussianBlur(prev_frame, (kernel_size, kernel_size), 1.5)\n",
    "    img_next_blurred = cv2.GaussianBlur(next_frame, (kernel_size, kernel_size), 1.5)\n",
    "\n",
    "    # Using the Structural Similary Index Metric to find differences between 2 images\n",
    "    \n",
    "    s, difference_score = structural_similarity(\n",
    "        img_prev_blurred, img_next_blurred,\n",
    "        multichannel=True, full=True, gaussian_weights=True)\n",
    "    # the diff is the opposite of the similarity\n",
    "    diff = 1.0-difference_score\n",
    "\n",
    "    # Renormalising the difference image\n",
    "    \n",
    "    diff = cv2.normalize(\n",
    "        diff, None, alpha=0, beta=255, norm_type=cv2.NORM_MINMAX, dtype=cv2.CV_32F)\n",
    "    diff = diff.astype(np.uint8)\n",
    "    # plt.imshow(diff)\n",
    "    \n",
    "    # Performing object detection over the difference image for the 2 considered frames\n",
    "    # For these we use very less threshhold value because our goal is to identify objects, and not its class.\n",
    "    # We will find the object class (vehicle or not) by using the considered 2 frames\n",
    "    final_image,moving_obj=Predict_objects(diff,diff,0.001)\n",
    "    \n",
    "    # When there is no moving object go to next frame\n",
    "    if moving_obj is None:\n",
    "        print(\"No moving object\")\n",
    "        continue\n",
    "        \n",
    "    # When the number of  moving objects detected is more than a limited number, then we will not consider that frame\n",
    "    # because in these cases, a single object is identified as multiple objects and a \n",
    "    # single moving object can be considered as mulitple moving objects\n",
    "    if len(moving_obj)>9:\n",
    "        continue\n",
    "    \n",
    "    # Performing object detection over the difference image for the 2 considered frames with higher threshhold values\n",
    "    # to get objects with the accurate class labels.\n",
    "    final_image,prev_det_obj=Predict_objects(prev_frame,final_image,0.4)\n",
    "    next_image,next_det_obj=Predict_objects(next_frame,next_frame,0.4)\n",
    "    \n",
    "    licensePlateNumber = '' # License plate number\n",
    "    \n",
    "    \n",
    "    # print(moving_obj)\n",
    "    for j in moving_obj:\n",
    "        \n",
    "        # finding the object from original image, that is close to the object that was detected in difference image between\n",
    "        # two frames\n",
    "        p_obj=Find_Object(j,prev_det_obj)\n",
    "        n_obj=Find_Object(j,next_det_obj)\n",
    "        a_obj=p_obj\n",
    "        \n",
    "        if p_obj is None:\n",
    "            if n_obj is None:\n",
    "                continue\n",
    "            else:    \n",
    "                a_obj = n_obj\n",
    "        \n",
    "        print(a_obj)\n",
    "        \n",
    "        # We consider only moving objects that are vehicles\n",
    "        if(a_obj[0] in [\"truck\",\"car\",\"bus\",\"motorbike\"]):\n",
    "            print(\"moving vehicle detected\")\n",
    "            lines.append(\"Moving vehicle detected\")\n",
    "            \n",
    "            # If the centre point of the vehicle is within the violation zone, we consider thos vehcile to have violated \n",
    "            if(a_obj[1]<700 and a_obj[2]<1200):\n",
    "                print(\"violation\")\n",
    "                track_moving_objects(prev_frame,next_frame,frame)\n",
    "                lines.append(\"Moving vehicle detected with Violation\")\n",
    "                \n",
    "            # Parameters for cropping out the moving vehicle alone from the image\n",
    "            left = ((torch.round(a_obj[1]) - (torch.round(a_obj[3])/2))).int() \n",
    "            top = (torch.round(a_obj[2]) - (torch.round(a_obj[4])/2)).int()\n",
    "            right = (torch.round(a_obj[1]) + (torch.round(a_obj[3])/2)).int()\n",
    "            bottom = (torch.round(a_obj[2]) + (torch.round(a_obj[4])/2)).int()\n",
    "            \n",
    "            try:\n",
    "                # Cropping an image\n",
    "                cropped_image = prev_frame[torch.IntTensor(top):torch.IntTensor(bottom), torch.IntTensor(left):torch.IntTensor(right)]           \n",
    "                # plt.imshow(cv2.cvtColor(cropped_image, cv2.COLOR_BGR2RGB))\n",
    "                \n",
    "                # Detecting license plate number using ALPR\n",
    "                licensePlateNumber = Find_LicensePlate(cropped_image)\n",
    "            except Exception:\n",
    "                \n",
    "                # If ALPR fails to detect the number, we will further crop the vehicle image and send the image directly\n",
    "                # to EASY OCR to read the text from image\n",
    "                \n",
    "                # This is done beacuse in many cases, APLR is unable to identify the license plate\n",
    "                try:\n",
    "                    left = ((torch.round(a_obj[1]) - (torch.round(a_obj[3])/4))).int() \n",
    "                    top = (torch.round(a_obj[2]) - (torch.round(a_obj[4])/4)).int() \n",
    "                    right = (torch.round(a_obj[1]) + (torch.round(a_obj[3])/4)).int() \n",
    "                    bottom = (torch.round(a_obj[2]) + (torch.round(a_obj[4])/4)).int()\n",
    "\n",
    "                    cropped_image = prev_frame[torch.IntTensor(top):torch.IntTensor(bottom), torch.IntTensor(left):torch.IntTensor(right)]\n",
    "                    # plt.imshow(cv2.cvtColor(cropped_image, cv2.COLOR_BGR2RGB))\n",
    "                    reader = easyocr.Reader(['en'])\n",
    "                    result = reader.readtext(cropped_image)\n",
    "                    licensePlateNumber = result[0][-2]\n",
    "                except Exception:\n",
    "                    pass\n",
    "                \n",
    "                pass\n",
    "\n",
    "            print(\"License Plate Number: \",licensePlateNumber)\n",
    "            if len(licensePlateNumber) >= 5:\n",
    "                try:\n",
    "                    licensePlateNumber = Format_LicenseNumber(licensePlateNumber)\n",
    "                except Exception:\n",
    "                    licensePlateNumber = ''\n",
    "                    pass    \n",
    "            else:\n",
    "                lines.append(\"License Plate Number not identified\")\n",
    "                licensePlateNumber = ''\n",
    "            lines.append(licensePlateNumber)\n",
    "            \n",
    "            # Storing the details of the moving vehicles in a dictionary\n",
    "            # example : [1:['car', tensor(941.7037), tensor(530.7382), tensor(1620.4276), tensor(921.5646),8,'CDER-342'],\n",
    "            #           [v2:['car', tensor(941.7037), tensor(530.7382), tensor(1620.4276), tensor(921.5646),25,'ABC-1234']]\n",
    "            # It will have all information about the vehicle including the class label, centre points, width, height\n",
    "            # frame number and predicted license plate number\n",
    "            # Also it will have the information of whether a vehicle violated or not, using the index name used.\n",
    "            # v is added in front of the index number for violated vehicles(eg: v1, v2, v8)\n",
    "            \n",
    "            a_obj.append(frame)\n",
    "            a_obj.append(licensePlateNumber)\n",
    "            \n",
    "            # If a vehicle is moving in violation zone we will add \n",
    "            if len(dict_moving_vehicles) == 0:\n",
    "                list_details.append(a_obj)\n",
    "                if(a_obj[1]<700 and a_obj[2]<1200):\n",
    "                    dict_moving_vehicles[\"v\"+str(len(dict_moving_vehicles)+1)]=list_details\n",
    "                else:\n",
    "                    dict_moving_vehicles[str(len(dict_moving_vehicles)+1)]=list_details\n",
    "            else:\n",
    "                flag = 0\n",
    "                for x, y in dict_moving_vehicles.items():\n",
    "                    if abs(y[len(y)-1][1]-a_obj[1]) <= 500 and abs(y[len(y)-1][2]-a_obj[2]) <= 500 and abs(y[len(y)-1][5]-frame)<=10:\n",
    "                        y.append(a_obj)\n",
    "\n",
    "                        dict_moving_vehicles[x]=y\n",
    "                        if(a_obj[1]<700 and a_obj[2]<1200 and x[0] != 'v'):\n",
    "                            dict_moving_vehicles[\"v\"+x] = dict_moving_vehicles.pop(x)\n",
    "                        flag = 1\n",
    "                        break\n",
    "                if flag == 0:\n",
    "                    list_details.append(a_obj)\n",
    "                    if(a_obj[1]<700 and a_obj[2]<1200):\n",
    "                        dict_moving_vehicles[\"v\"+str(len(dict_moving_vehicles)+1)]=list_details\n",
    "                    else:\n",
    "                        dict_moving_vehicles[str(len(dict_moving_vehicles)+1)]=list_details\n",
    "            list_details = []\n",
    "\n",
    "        else:\n",
    "            print(\"moving object detected but not vehicle\")\n",
    "            lines.append(\"moving object detected but not vehicle\")"
   ]
  },
  {
   "cell_type": "code",
   "execution_count": 12,
   "id": "f44accd2",
   "metadata": {},
   "outputs": [
    {
     "name": "stdout",
     "output_type": "stream",
     "text": [
      "Number of vehicles violated in video: 2\n",
      "Predicted Numbers: ['BSHR-863', 'CDER-342']\n"
     ]
    }
   ],
   "source": [
    "# Printing the number of vehicles that violated along with their predicted license plate numbers\n",
    "\n",
    "count=0\n",
    "violated_number = []\n",
    "for x,y in dict_moving_vehicles.items():\n",
    "    number = []\n",
    "    if x[0] == 'v':\n",
    "        count=count+1\n",
    "        for z in y:\n",
    "            number.append(z[6])\n",
    "            number = list(filter(None, number))\n",
    "        if len(number):\n",
    "            violated_number.append(max(set(number), key = number.count))\n",
    "print(\"Number of vehicles violated in video:\",count)\n",
    "print(\"Predicted Numbers:\",violated_number)\n",
    "\n",
    "# Storing the results of the video in a list\n",
    "result =[]\n",
    "result.append(\"Number of vehicles violated in video: \"+ str(count))\n",
    "result.append(\"Predicted Numbers:-\")\n",
    "for i in violated_number:\n",
    "    result.append(i)"
   ]
  },
  {
   "cell_type": "code",
   "execution_count": 13,
   "id": "c6b480ee",
   "metadata": {},
   "outputs": [
    {
     "data": {
      "text/plain": [
       "['In frame 0:',\n",
       " 'In frame 1:',\n",
       " 'In frame 2:',\n",
       " 'In frame 3:',\n",
       " 'In frame 4:',\n",
       " 'In frame 5:',\n",
       " 'In frame 6:',\n",
       " 'In frame 7:',\n",
       " 'In frame 8:',\n",
       " 'In frame 9:',\n",
       " 'In frame 10:',\n",
       " 'In frame 11:',\n",
       " 'In frame 12:',\n",
       " 'In frame 13:',\n",
       " 'In frame 14:',\n",
       " 'In frame 15:',\n",
       " 'In frame 16:',\n",
       " 'In frame 17:',\n",
       " 'In frame 18:',\n",
       " 'In frame 19:',\n",
       " 'In frame 20:',\n",
       " 'In frame 21:',\n",
       " 'In frame 22:',\n",
       " 'In frame 23:',\n",
       " 'In frame 24:',\n",
       " 'In frame 25:',\n",
       " 'In frame 26:',\n",
       " 'In frame 27:',\n",
       " 'In frame 28:',\n",
       " 'In frame 29:',\n",
       " 'Moving vehicle detected',\n",
       " 'Moving vehicle detected with Violation',\n",
       " 'License Plate Number not identified',\n",
       " '',\n",
       " 'In frame 30:',\n",
       " 'In frame 31:',\n",
       " 'Moving vehicle detected',\n",
       " 'Moving vehicle detected with Violation',\n",
       " 'License Plate Number not identified',\n",
       " '',\n",
       " 'In frame 32:',\n",
       " 'Moving vehicle detected',\n",
       " 'Moving vehicle detected with Violation',\n",
       " 'License Plate Number not identified',\n",
       " '',\n",
       " 'In frame 33:',\n",
       " 'Moving vehicle detected',\n",
       " 'Moving vehicle detected with Violation',\n",
       " 'License Plate Number not identified',\n",
       " '',\n",
       " 'In frame 34:',\n",
       " 'Moving vehicle detected',\n",
       " 'Moving vehicle detected with Violation',\n",
       " 'License Plate Number not identified',\n",
       " '',\n",
       " 'In frame 35:',\n",
       " 'Moving vehicle detected',\n",
       " 'Moving vehicle detected with Violation',\n",
       " 'License Plate Number not identified',\n",
       " '',\n",
       " 'In frame 36:',\n",
       " 'Moving vehicle detected',\n",
       " 'License Plate Number not identified',\n",
       " '',\n",
       " 'In frame 37:',\n",
       " 'Moving vehicle detected',\n",
       " 'License Plate Number not identified',\n",
       " '',\n",
       " 'In frame 38:',\n",
       " 'In frame 39:',\n",
       " 'In frame 40:',\n",
       " 'In frame 41:',\n",
       " 'Moving vehicle detected',\n",
       " 'License Plate Number not identified',\n",
       " '',\n",
       " 'In frame 42:',\n",
       " 'Moving vehicle detected',\n",
       " 'License Plate Number not identified',\n",
       " '',\n",
       " 'In frame 43:',\n",
       " 'Moving vehicle detected',\n",
       " 'License Plate Number not identified',\n",
       " '',\n",
       " 'In frame 44:',\n",
       " 'Moving vehicle detected',\n",
       " 'SNR-863',\n",
       " 'In frame 45:',\n",
       " 'Moving vehicle detected',\n",
       " 'JSNR-863',\n",
       " 'In frame 46:',\n",
       " 'Moving vehicle detected',\n",
       " 'BSNR-863',\n",
       " 'In frame 47:',\n",
       " 'Moving vehicle detected',\n",
       " 'BSHR-863',\n",
       " 'In frame 48:',\n",
       " 'Moving vehicle detected',\n",
       " 'BSNR-863',\n",
       " 'In frame 49:',\n",
       " 'Moving vehicle detected',\n",
       " 'BSHR-863',\n",
       " 'In frame 50:',\n",
       " 'Moving vehicle detected',\n",
       " 'BSHR-863',\n",
       " 'In frame 51:',\n",
       " 'Moving vehicle detected',\n",
       " 'BSHR-863',\n",
       " 'In frame 52:',\n",
       " 'Moving vehicle detected',\n",
       " 'BSHR-863',\n",
       " 'In frame 53:',\n",
       " 'Moving vehicle detected',\n",
       " 'BSKR-485',\n",
       " 'In frame 54:',\n",
       " 'Moving vehicle detected',\n",
       " 'BSLR-853',\n",
       " 'In frame 55:',\n",
       " 'Moving vehicle detected',\n",
       " 'BS-4RE63',\n",
       " 'In frame 56:',\n",
       " 'Moving vehicle detected',\n",
       " 'License Plate Number not identified',\n",
       " '',\n",
       " 'In frame 57:',\n",
       " 'Moving vehicle detected',\n",
       " 'License Plate Number not identified',\n",
       " '',\n",
       " 'In frame 58:',\n",
       " 'Moving vehicle detected',\n",
       " 'License Plate Number not identified',\n",
       " '',\n",
       " 'In frame 59:',\n",
       " 'Moving vehicle detected',\n",
       " 'License Plate Number not identified',\n",
       " '',\n",
       " 'In frame 60:',\n",
       " 'Moving vehicle detected',\n",
       " 'License Plate Number not identified',\n",
       " '',\n",
       " 'In frame 61:',\n",
       " 'Moving vehicle detected',\n",
       " 'License Plate Number not identified',\n",
       " '',\n",
       " 'In frame 62:',\n",
       " 'Moving vehicle detected',\n",
       " 'License Plate Number not identified',\n",
       " '',\n",
       " 'In frame 63:',\n",
       " 'Moving vehicle detected',\n",
       " 'License Plate Number not identified',\n",
       " '',\n",
       " 'In frame 64:',\n",
       " 'Moving vehicle detected',\n",
       " 'License Plate Number not identified',\n",
       " '',\n",
       " 'In frame 65:',\n",
       " 'Moving vehicle detected',\n",
       " 'License Plate Number not identified',\n",
       " '',\n",
       " 'In frame 66:',\n",
       " 'Moving vehicle detected',\n",
       " 'License Plate Number not identified',\n",
       " '',\n",
       " 'In frame 67:',\n",
       " 'In frame 68:',\n",
       " 'In frame 69:',\n",
       " 'In frame 70:',\n",
       " 'In frame 71:',\n",
       " 'In frame 72:',\n",
       " 'In frame 73:',\n",
       " 'In frame 74:',\n",
       " 'In frame 75:',\n",
       " 'In frame 76:',\n",
       " 'In frame 77:',\n",
       " 'In frame 78:',\n",
       " 'In frame 79:',\n",
       " 'In frame 80:',\n",
       " 'In frame 81:',\n",
       " 'In frame 82:',\n",
       " 'In frame 83:',\n",
       " 'In frame 84:',\n",
       " 'In frame 85:',\n",
       " 'In frame 86:',\n",
       " 'In frame 87:',\n",
       " 'In frame 88:',\n",
       " 'In frame 89:',\n",
       " 'In frame 90:',\n",
       " 'In frame 91:',\n",
       " 'In frame 92:',\n",
       " 'In frame 93:',\n",
       " 'In frame 94:',\n",
       " 'In frame 95:',\n",
       " 'In frame 96:',\n",
       " 'In frame 97:',\n",
       " 'In frame 98:',\n",
       " 'In frame 99:',\n",
       " 'In frame 100:',\n",
       " 'In frame 101:',\n",
       " 'In frame 102:',\n",
       " 'In frame 103:',\n",
       " 'In frame 104:',\n",
       " 'In frame 105:',\n",
       " 'In frame 106:',\n",
       " 'In frame 107:',\n",
       " 'In frame 108:',\n",
       " 'In frame 109:',\n",
       " 'In frame 110:',\n",
       " 'In frame 111:',\n",
       " 'In frame 112:',\n",
       " 'In frame 113:',\n",
       " 'In frame 114:',\n",
       " 'In frame 115:',\n",
       " 'In frame 116:',\n",
       " 'In frame 117:',\n",
       " 'In frame 118:',\n",
       " 'In frame 119:',\n",
       " 'In frame 120:',\n",
       " 'In frame 121:',\n",
       " 'In frame 122:',\n",
       " 'In frame 123:',\n",
       " 'In frame 124:',\n",
       " 'In frame 125:',\n",
       " 'In frame 126:',\n",
       " 'In frame 127:',\n",
       " 'In frame 128:',\n",
       " 'In frame 129:',\n",
       " 'In frame 130:',\n",
       " 'In frame 131:',\n",
       " 'In frame 132:',\n",
       " 'In frame 133:',\n",
       " 'In frame 134:',\n",
       " 'In frame 135:',\n",
       " 'In frame 136:',\n",
       " 'In frame 137:',\n",
       " 'In frame 138:',\n",
       " 'In frame 139:',\n",
       " 'In frame 140:',\n",
       " 'In frame 141:',\n",
       " 'In frame 142:',\n",
       " 'In frame 143:',\n",
       " 'In frame 144:',\n",
       " 'In frame 145:',\n",
       " 'Moving vehicle detected',\n",
       " 'Moving vehicle detected with Violation',\n",
       " 'License Plate Number not identified',\n",
       " '',\n",
       " 'In frame 146:',\n",
       " 'Moving vehicle detected',\n",
       " 'Moving vehicle detected with Violation',\n",
       " 'License Plate Number not identified',\n",
       " '',\n",
       " 'In frame 147:',\n",
       " 'Moving vehicle detected',\n",
       " 'Moving vehicle detected with Violation',\n",
       " 'License Plate Number not identified',\n",
       " '',\n",
       " 'In frame 148:',\n",
       " 'Moving vehicle detected',\n",
       " 'Moving vehicle detected with Violation',\n",
       " 'License Plate Number not identified',\n",
       " '',\n",
       " 'In frame 149:',\n",
       " 'Moving vehicle detected',\n",
       " 'Moving vehicle detected with Violation',\n",
       " 'License Plate Number not identified',\n",
       " '',\n",
       " 'In frame 150:',\n",
       " 'Moving vehicle detected',\n",
       " 'Moving vehicle detected with Violation',\n",
       " 'License Plate Number not identified',\n",
       " '',\n",
       " 'In frame 151:',\n",
       " 'Moving vehicle detected',\n",
       " 'Moving vehicle detected with Violation',\n",
       " 'License Plate Number not identified',\n",
       " '',\n",
       " 'In frame 152:',\n",
       " 'Moving vehicle detected',\n",
       " 'License Plate Number not identified',\n",
       " '',\n",
       " 'In frame 153:',\n",
       " 'Moving vehicle detected',\n",
       " 'LDER-342',\n",
       " 'In frame 154:',\n",
       " 'Moving vehicle detected',\n",
       " 'LDER-342',\n",
       " 'In frame 155:',\n",
       " 'In frame 156:',\n",
       " 'Moving vehicle detected',\n",
       " 'CDER-342',\n",
       " 'In frame 157:',\n",
       " 'Moving vehicle detected',\n",
       " 'CDER-342',\n",
       " 'In frame 158:',\n",
       " 'Moving vehicle detected',\n",
       " 'CDER-342',\n",
       " 'In frame 159:',\n",
       " 'Moving vehicle detected',\n",
       " 'DER-342',\n",
       " 'In frame 160:',\n",
       " 'Moving vehicle detected',\n",
       " 'LDER-347',\n",
       " 'In frame 161:',\n",
       " 'Moving vehicle detected',\n",
       " 'QDER-342',\n",
       " 'In frame 162:',\n",
       " 'Moving vehicle detected',\n",
       " 'QOER-32',\n",
       " 'In frame 163:',\n",
       " 'Moving vehicle detected',\n",
       " 'LOER-32',\n",
       " 'In frame 164:',\n",
       " 'Moving vehicle detected',\n",
       " 'LDER-22',\n",
       " 'In frame 165:',\n",
       " 'Moving vehicle detected',\n",
       " 'LDER-31',\n",
       " 'In frame 166:',\n",
       " 'Moving vehicle detected',\n",
       " 'License Plate Number not identified',\n",
       " '',\n",
       " 'In frame 167:',\n",
       " 'Moving vehicle detected',\n",
       " 'License Plate Number not identified',\n",
       " '',\n",
       " 'In frame 168:',\n",
       " 'Moving vehicle detected',\n",
       " 'License Plate Number not identified',\n",
       " '',\n",
       " 'In frame 169:',\n",
       " 'Moving vehicle detected',\n",
       " 'License Plate Number not identified',\n",
       " '',\n",
       " 'In frame 170:',\n",
       " 'Moving vehicle detected',\n",
       " 'License Plate Number not identified',\n",
       " '',\n",
       " 'In frame 171:',\n",
       " 'Moving vehicle detected',\n",
       " 'License Plate Number not identified',\n",
       " '',\n",
       " 'In frame 172:',\n",
       " 'Moving vehicle detected',\n",
       " 'License Plate Number not identified',\n",
       " '',\n",
       " 'In frame 173:',\n",
       " 'Moving vehicle detected',\n",
       " 'License Plate Number not identified',\n",
       " '',\n",
       " 'In frame 174:',\n",
       " 'Moving vehicle detected',\n",
       " 'License Plate Number not identified',\n",
       " '',\n",
       " 'In frame 175:',\n",
       " 'Moving vehicle detected',\n",
       " 'License Plate Number not identified',\n",
       " '',\n",
       " 'In frame 176:',\n",
       " 'In frame 177:',\n",
       " 'moving object detected but not vehicle',\n",
       " 'In frame 178:',\n",
       " 'In frame 179:',\n",
       " 'In frame 180:',\n",
       " 'In frame 181:',\n",
       " 'In frame 182:',\n",
       " 'In frame 183:',\n",
       " 'In frame 184:',\n",
       " 'In frame 185:',\n",
       " 'In frame 186:',\n",
       " 'In frame 187:',\n",
       " 'In frame 188:',\n",
       " 'In frame 189:',\n",
       " 'In frame 190:',\n",
       " 'In frame 191:',\n",
       " 'In frame 192:',\n",
       " 'In frame 193:',\n",
       " 'In frame 194:',\n",
       " 'In frame 195:',\n",
       " 'In frame 196:',\n",
       " 'In frame 197:',\n",
       " 'In frame 198:',\n",
       " 'In frame 199:',\n",
       " 'In frame 200:',\n",
       " 'In frame 201:',\n",
       " 'In frame 202:',\n",
       " 'In frame 203:',\n",
       " 'In frame 204:',\n",
       " 'In frame 205:',\n",
       " 'In frame 206:',\n",
       " 'In frame 207:',\n",
       " 'In frame 208:',\n",
       " 'In frame 209:',\n",
       " 'In frame 210:',\n",
       " 'In frame 211:',\n",
       " 'In frame 212:',\n",
       " 'In frame 213:',\n",
       " 'In frame 214:',\n",
       " 'In frame 215:',\n",
       " 'In frame 216:',\n",
       " 'In frame 217:',\n",
       " 'In frame 218:',\n",
       " 'In frame 219:',\n",
       " 'In frame 220:',\n",
       " 'In frame 221:',\n",
       " 'In frame 222:',\n",
       " 'In frame 223:',\n",
       " 'In frame 224:',\n",
       " 'In frame 225:',\n",
       " 'In frame 226:',\n",
       " 'In frame 227:',\n",
       " 'In frame 228:',\n",
       " 'In frame 229:',\n",
       " 'In frame 230:',\n",
       " 'In frame 231:',\n",
       " 'In frame 232:',\n",
       " 'In frame 233:',\n",
       " 'In frame 234:',\n",
       " 'In frame 235:',\n",
       " 'In frame 236:',\n",
       " 'In frame 237:',\n",
       " 'In frame 238:',\n",
       " 'In frame 239:',\n",
       " 'In frame 240:',\n",
       " 'In frame 241:',\n",
       " 'In frame 242:',\n",
       " 'In frame 243:',\n",
       " 'In frame 244:',\n",
       " 'In frame 245:',\n",
       " 'In frame 246:',\n",
       " 'In frame 247:',\n",
       " 'In frame 248:']"
      ]
     },
     "execution_count": 13,
     "metadata": {},
     "output_type": "execute_result"
    }
   ],
   "source": [
    "# Prints everything observed in each frame\n",
    "\n",
    "lines"
   ]
  },
  {
   "cell_type": "code",
   "execution_count": 14,
   "id": "1a8fcd70",
   "metadata": {},
   "outputs": [],
   "source": [
    "# Converting the result list to a text file and storing it in folder\n",
    "\n",
    "textfile = open(\"./\"+tracking_file_name+\"/result_file.txt\", \"w\")\n",
    "for element in result:\n",
    "    textfile.write(element + \"\\n\")\n",
    "textfile.close()"
   ]
  },
  {
   "cell_type": "code",
   "execution_count": null,
   "id": "2ce3cf70",
   "metadata": {},
   "outputs": [],
   "source": []
  }
 ],
 "metadata": {
  "kernelspec": {
   "display_name": "Python 3",
   "language": "python",
   "name": "python3"
  },
  "language_info": {
   "codemirror_mode": {
    "name": "ipython",
    "version": 3
   },
   "file_extension": ".py",
   "mimetype": "text/x-python",
   "name": "python",
   "nbconvert_exporter": "python",
   "pygments_lexer": "ipython3",
   "version": "3.8.10"
  }
 },
 "nbformat": 4,
 "nbformat_minor": 5
}
